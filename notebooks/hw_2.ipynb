{
  "cells": [
    {
      "cell_type": "code",
      "execution_count": 1,
      "metadata": {
        "id": "MWXRjZf87pVA"
      },
      "outputs": [
        {
          "data": {
            "text/plain": [
              "True"
            ]
          },
          "execution_count": 1,
          "metadata": {},
          "output_type": "execute_result"
        }
      ],
      "source": [
        "import sys\n",
        "import os\n",
        "from functools import partial\n",
        "\n",
        "import getpass\n",
        "import requests\n",
        "import json\n",
        "import time\n",
        "from pprint import pprint\n",
        "\n",
        "from langchain.chat_models.gigachat import GigaChat\n",
        "from langchain.memory import (ConversationBufferMemory,\n",
        "                              ConversationBufferWindowMemory,\n",
        "                              ConversationSummaryMemory,\n",
        "                              VectorStoreRetrieverMemory)\n",
        "from langchain.chains import ConversationChain\n",
        "from langchain_community.embeddings import GigaChatEmbeddings\n",
        "\n",
        "from langchain.schema import HumanMessage, SystemMessage\n",
        "from langchain.tools import tool\n",
        "\n",
        "import faiss\n",
        "from langchain_community.docstore import InMemoryDocstore\n",
        "from langchain_community.vectorstores import FAISS\n",
        "\n",
        "from pydantic import BaseModel\n",
        "\n",
        "from dotenv import load_dotenv\n",
        "# Load environment variables\n",
        "load_dotenv('../.env')"
      ]
    },
    {
      "cell_type": "markdown",
      "metadata": {
        "id": "oPlx_wfa7pVB"
      },
      "source": [
        "# 1. Memory"
      ]
    },
    {
      "cell_type": "markdown",
      "metadata": {
        "id": "C2hAn2I07pVC"
      },
      "source": [
        "Define your own class implementing a simple LLM-based chatbot. You need to use at least three memory types (langchain.memory), which are set as one argument in the ```init``` definition. If the memory type has any parameters, you also need to define them as arguments in the ```init``` definition. You also need to define a ```run``` method implementing the main conversation loop, and a ```print_memory``` method to print out what exactly the memory consists of."
      ]
    },
    {
      "cell_type": "code",
      "execution_count": 2,
      "metadata": {
        "id": "KKdnH00o7pVC"
      },
      "outputs": [],
      "source": [
        "class SimpleChatBot:\n",
        "    key_type_memory = {\n",
        "        'summary': ConversationSummaryMemory,\n",
        "        'simple': ConversationBufferMemory,\n",
        "        'window': partial(ConversationBufferWindowMemory, k=3),\n",
        "    }\n",
        "\n",
        "    def __init__(self, llm, memory_type):\n",
        "        self.llm = llm\n",
        "        self.memory = self.key_type_memory[memory_type](llm=llm)\n",
        "        self.conversation = ConversationChain(\n",
        "            llm=self.llm,\n",
        "            verbose=False,\n",
        "            memory=self.memory,\n",
        "        )\n",
        "\n",
        "    def _respond(self, user_input):\n",
        "        response = self.conversation.predict(input=user_input)\n",
        "        return response\n",
        "        \n",
        "\n",
        "    def print_memory(self):\n",
        "        print(self.memory.load_memory_variables({}))\n",
        "\n",
        "    def run(self):\n",
        "        print(\"This is a simple chat bot:\")\n",
        "        while True:\n",
        "            line = input('User: ')\n",
        "            if line == '':\n",
        "                break\n",
        "            print(f'User: {line}')\n",
        "            response = self._respond(line)\n",
        "            print(f'AI: {response}')\n"
      ]
    },
    {
      "cell_type": "code",
      "execution_count": null,
      "metadata": {},
      "outputs": [],
      "source": [
        "giga_key = os.environ.get(\"SB_AUTH_DATA\")\n",
        "giga = GigaChat(credentials=giga_key, model=\"GigaChat\", timeout=30, verify_ssl_certs=False)\n",
        "chat = SimpleChatBot(llm=giga, memory_type='summary')\n",
        "chat.run()\n",
        "pprint(chat.print_memory())"
      ]
    },
    {
      "cell_type": "markdown",
      "metadata": {
        "id": "V-dMEchP7pVD"
      },
      "source": [
        "Now let's check how it works with each type of memory"
      ]
    },
    {
      "cell_type": "code",
      "execution_count": 3,
      "metadata": {
        "id": "jKt_uVtr7pVE"
      },
      "outputs": [
        {
          "name": "stderr",
          "output_type": "stream",
          "text": [
            "/tmp/ipykernel_20219/2173066221.py:11: LangChainDeprecationWarning: The class `ConversationChain` was deprecated in LangChain 0.2.7 and will be removed in 1.0. Use RunnableWithMessageHistory: https://api.python.langchain.com/en/latest/runnables/langchain_core.runnables.history.RunnableWithMessageHistory.html instead.\n",
            "  self.conversation = ConversationChain(\n"
          ]
        },
        {
          "name": "stdout",
          "output_type": "stream",
          "text": [
            "This is a simple chat bot:\n",
            "User: Tell me something about Bashkortostan.\n",
            "AI: Башкортостан — это республика в составе Российской Федерации, расположенная на Южном Урале и в части Предуралья. Столица республики — город Уфа. Регион известен своей богатой историей, культурой и природой. Здесь проживают представители более 100 национальностей, каждая из которых внесла свой вклад в развитие региона. Башкортостан славится производством нефти и газа, а также развитым сельским хозяйством. В Уфе ежегодно проходят международные форумы и конференции, что делает город важным центром для международного сотрудничества.\n",
            "User: What is the capital of that region?\n",
            "AI: The capital of Bashkortostan is Ufa.\n",
            "User: What do you know about the capital?\n",
            "AI: Извините, но у меня нет информации о конкретной столице республики Башкортостан, Уфе. Можете ли вы уточнить ваш запрос?\n",
            "User: What is most wide spread ethnicity in this region?\n",
            "AI: Извините, но у меня нет информации о конкретном этническом большинстве в регионе Башкортостан. Можете ли вы уточнить ваш запрос?\n",
            "User: what natural attractions do you know in the region?\n",
            "AI: Извините, но у меня нет информации о конкретных природных достопримечательностях в регионе Башкортостан. Можете ли вы уточнить ваш запрос?\n",
            "{'history': 'Human: What do you know about the capital?\\nAI: Извините, но у меня нет информации о конкретной столице республики Башкортостан, Уфе. Можете ли вы уточнить ваш запрос?\\nHuman: What is most wide spread ethnicity in this region?\\nAI: Извините, но у меня нет информации о конкретном этническом большинстве в регионе Башкортостан. Можете ли вы уточнить ваш запрос?\\nHuman: what natural attractions do you know in the region?\\nAI: Извините, но у меня нет информации о конкретных природных достопримечательностях в регионе Башкортостан. Можете ли вы уточнить ваш запрос?'}\n",
            "None\n"
          ]
        }
      ],
      "source": [
        "giga_key = os.environ.get(\"SB_AUTH_DATA\")\n",
        "giga = GigaChat(credentials=giga_key, model=\"GigaChat\", timeout=30, verify_ssl_certs=False)\n",
        "chat = SimpleChatBot(giga, 'window')\n",
        "chat.run()\n",
        "pprint(chat.print_memory())"
      ]
    },
    {
      "cell_type": "code",
      "execution_count": 6,
      "metadata": {
        "id": "IiVqnefo7pVF"
      },
      "outputs": [
        {
          "name": "stdout",
          "output_type": "stream",
          "text": [
            "This is a simple chat bot:\n",
            "User: Tell me something about Bashkortostan.\n",
            "AI: Башкортостан — это республика в составе Российской Федерации, расположенная на Южном Урале и в части Предуралья. Столица республики — город Уфа. Башкортостан известен своей богатой историей, культурой и природой. Здесь проживают представители различных национальностей, которые бережно хранят свои традиции и обычаи. Экономика региона базируется на нефтедобыче, машиностроении, сельском хозяйстве и туризме. В Башкортостане также находится множество природных заповедников и национальных парков, таких как Башкирский государственный заповедник и национальный парк \"Башкирия\".\n",
            "User: What is the capital of that region?\n",
            "AI: Столицей региона Башкортостан является город Уфа.\n",
            "User: What do you know about Ufa?\n",
            "AI: Извините, но у меня нет информации о городе Уфа в данный момент. Могу ли я помочь вам с чем-то еще?\n",
            "User: What is most wade spread ethnicity in this region?\n",
            "AI: Извините, но у меня нет информации о наиболее распространенной этнической группе в этом регионе в данный момент. Могу ли я помочь вам с чем-то еще?\n",
            "User: Tell me something about other ethnicities there.\n",
            "AI: Извините, но у меня нет информации о других этнических группах в этом регионе в данный момент. Могу ли я помочь вам с чем-то еще?\n",
            "{'history': 'Human: Tell me something about Bashkortostan.\\nAI: Башкортостан — это республика в составе Российской Федерации, расположенная на Южном Урале и в части Предуралья. Столица республики — город Уфа. Башкортостан известен своей богатой историей, культурой и природой. Здесь проживают представители различных национальностей, которые бережно хранят свои традиции и обычаи. Экономика региона базируется на нефтедобыче, машиностроении, сельском хозяйстве и туризме. В Башкортостане также находится множество природных заповедников и национальных парков, таких как Башкирский государственный заповедник и национальный парк \"Башкирия\".\\nHuman: What is the capital of that region?\\nAI: Столицей региона Башкортостан является город Уфа.\\nHuman: What do you know about Ufa?\\nAI: Извините, но у меня нет информации о городе Уфа в данный момент. Могу ли я помочь вам с чем-то еще?\\nHuman: What is most wade spread ethnicity in this region?\\nAI: Извините, но у меня нет информации о наиболее распространенной этнической группе в этом регионе в данный момент. Могу ли я помочь вам с чем-то еще?\\nHuman: Tell me something about other ethnicities there.\\nAI: Извините, но у меня нет информации о других этнических группах в этом регионе в данный момент. Могу ли я помочь вам с чем-то еще?'}\n"
          ]
        }
      ],
      "source": [
        "giga_key = os.environ.get(\"SB_AUTH_DATA\")\n",
        "giga = GigaChat(credentials=giga_key, model=\"GigaChat\", timeout=30, verify_ssl_certs=False)\n",
        "chat = SimpleChatBot(giga, 'simple')\n",
        "chat.run()\n",
        "pprint(chat.print_memory())"
      ]
    },
    {
      "cell_type": "markdown",
      "metadata": {
        "id": "izAocuku7pVG"
      },
      "source": [
        "# Отчет о различиях типов памяти\n",
        "\n",
        "## 1. ConversationBufferMemory\n",
        "- **Описание**: Хранит полную историю диалога в виде буфера. Каждый новый ввод добавляется в конец этого буфера.\n",
        "- **Применение**: Используется, когда важно сохранять все сообщения для контекста, чтобы не терялись никакие детали в течение диалога.\n",
        "- **Преимущества**: Сохраняет всю историю, что может быть полезно для отслеживания всех аспектов беседы.\n",
        "- **Недостатки**: По мере увеличения объема данных, буфер может стать слишком большим и замедлить обработку.\n",
        "\n",
        "## 2. ConversationBufferWindowMemory\n",
        "- **Описание**: Хранит только последние *n* сообщений из истории диалога (окно). Вместо хранения всей истории сохраняются только недавние сообщения.\n",
        "- **Применение**: Когда важен недавний контекст, а не полная история диалога, например, для кратких ответов или выполнения простых задач.\n",
        "- **Преимущества**: Экономит память и ускоряет обработку за счет хранения только нужного количества сообщений.\n",
        "- **Недостатки**: Старые сообщения теряются, что может быть проблемой, если важно помнить весь контекст.\n",
        "\n",
        "## 3. ConversationSummaryMemory\n",
        "- **Описание**: Создает сжатое резюме диалога, извлекая ключевые моменты из истории беседы. Вместо сохранения всей истории или окна сообщений, генерируется краткая сводка.\n",
        "- **Применение**: Полезно, когда нужен краткий обзор важнейших моментов длительного диалога, без необходимости хранения каждого сообщения.\n",
        "- **Преимущества**: Экономит память за счет хранения резюме вместо полного текста диалога.\n",
        "- **Недостатки**: Возможны потери некоторых деталей, которые могут оказаться важными для дальнейшего контекста беседы."
      ]
    },
    {
      "cell_type": "markdown",
      "metadata": {
        "id": "uAAXvcjE7pVG"
      },
      "source": [
        "# 2. Using tools and agents"
      ]
    },
    {
      "cell_type": "markdown",
      "metadata": {
        "id": "vAmrUvnO7pVH"
      },
      "source": [
        "## 2.1 Using tools and API"
      ]
    },
    {
      "cell_type": "markdown",
      "metadata": {
        "id": "EG-0jQIg7pVH"
      },
      "source": [
        "Create your own tool based on the langchain.tools library to interact with a public OpenWeather API. This tool will receive data from the API and return it as a readable result for the user.\n",
        "\n",
        "\n",
        "OpenWeather API URL: https://api.openweathermap.org/data/2.5/weather?q={city}&appid={openweather_key}&units=metric\n",
        "\n",
        "[How to get OpenWeather API key](https://docs.google.com/document/d/1vbi8QKqMZqZoCReIzpmEB_2mHsrbmXPlyGngE3jeDDw/edit)\n"
      ]
    },
    {
      "cell_type": "code",
      "execution_count": 4,
      "metadata": {
        "id": "MmgYKg8c7pVH"
      },
      "outputs": [],
      "source": [
        "from langchain.tools import Tool\n",
        "from langchain.agents import create_gigachat_functions_agent, AgentExecutor\n",
        "import requests\n",
        "from pprint import pprint\n",
        "import os\n",
        "\n",
        "openweather_key = os.environ.get(\"OPENWEATHER_API_KEY\")"
      ]
    },
    {
      "cell_type": "code",
      "execution_count": 6,
      "metadata": {},
      "outputs": [
        {
          "name": "stdout",
          "output_type": "stream",
          "text": [
            "{'base': 'stations',\n",
            " 'clouds': {'all': 0},\n",
            " 'cod': 200,\n",
            " 'coord': {'lat': 59.8944, 'lon': 30.2642},\n",
            " 'dt': 1729613941,\n",
            " 'id': 498817,\n",
            " 'main': {'feels_like': 11.01,\n",
            "          'grnd_level': 1012,\n",
            "          'humidity': 80,\n",
            "          'pressure': 1015,\n",
            "          'sea_level': 1015,\n",
            "          'temp': 11.7,\n",
            "          'temp_max': 11.7,\n",
            "          'temp_min': 11.08},\n",
            " 'name': 'Saint Petersburg',\n",
            " 'sys': {'country': 'RU',\n",
            "         'id': 197864,\n",
            "         'sunrise': 1729572944,\n",
            "         'sunset': 1729607442,\n",
            "         'type': 2},\n",
            " 'timezone': 10800,\n",
            " 'visibility': 10000,\n",
            " 'weather': [{'description': 'clear sky',\n",
            "              'icon': '01n',\n",
            "              'id': 800,\n",
            "              'main': 'Clear'}],\n",
            " 'wind': {'deg': 260, 'speed': 5}}\n"
          ]
        }
      ],
      "source": [
        "city = 'Moscow'\n",
        "city = 'Санкт-Петербург'\n",
        "city = 'Saint Petersburg'\n",
        "url = (\n",
        "        f\"https://api.openweathermap.org/data/2.5/weather\"\n",
        "        f\"?q={city}&appid={openweather_key}&units=metric\"\n",
        "    )\n",
        "response = requests.get(url)\n",
        "pprint(response.json())"
      ]
    },
    {
      "cell_type": "code",
      "execution_count": 7,
      "metadata": {},
      "outputs": [
        {
          "name": "stderr",
          "output_type": "stream",
          "text": [
            "/tmp/ipykernel_57983/574559311.py:65: LangChainDeprecationWarning: The method `BaseTool.__call__` was deprecated in langchain-core 0.1.47 and will be removed in 1.0. Use invoke instead.\n",
            "  print(get_weather(city_name))\n"
          ]
        },
        {
          "name": "stdout",
          "output_type": "stream",
          "text": [
            "{'base': 'stations',\n",
            " 'clouds': {'all': 100},\n",
            " 'cod': 200,\n",
            " 'coord': {'lat': 55.7522, 'lon': 37.6156},\n",
            " 'dt': 1729613573,\n",
            " 'id': 524901,\n",
            " 'main': {'feels_like': 6.53,\n",
            "          'grnd_level': 1002,\n",
            "          'humidity': 61,\n",
            "          'pressure': 1021,\n",
            "          'sea_level': 1021,\n",
            "          'temp': 8.82,\n",
            "          'temp_max': 9.1,\n",
            "          'temp_min': 8.1},\n",
            " 'name': 'Moscow',\n",
            " 'sys': {'country': 'RU',\n",
            "         'id': 2094500,\n",
            "         'sunrise': 1729570498,\n",
            "         'sunset': 1729606361,\n",
            "         'type': 2},\n",
            " 'timezone': 10800,\n",
            " 'visibility': 10000,\n",
            " 'weather': [{'description': 'overcast clouds',\n",
            "              'icon': '04n',\n",
            "              'id': 804,\n",
            "              'main': 'Clouds'}],\n",
            " 'wind': {'deg': 262, 'gust': 10.32, 'speed': 4.04}}\n",
            "message='Погода была успешно получена.' temperature=8.82 feels_like=6.53 description='overcast clouds'\n"
          ]
        }
      ],
      "source": [
        "from langchain_core.pydantic_v1 import BaseModel, Field\n",
        "\n",
        "\n",
        "class WeatherResult(BaseModel):\n",
        "    message: str = Field(description=\"Message about the weather status\")\n",
        "    temperature: float = Field(description=\"Real temperature\")\n",
        "    feels_like: float = Field(description=\"How the weather temperature feels like\")\n",
        "    description: str = Field(description=\"General weather description\")\n",
        "\n",
        "\n",
        "few_shot_examples = [\n",
        "    {\n",
        "        \"request\": \"What is the weather in Moscow\",\n",
        "        \"params\": {\"city\": \"Moscow\"},\n",
        "    },\n",
        "    {\n",
        "        \"request\": \"Give me the weather in Samara\",\n",
        "        \"params\": {\"city\": \"Samara\"},\n",
        "    },\n",
        "    {\n",
        "        \"request\": \"Tell the temperature in Saint Petersburg\",\n",
        "        \"params\": {\"city\": \"Saint Petersburg\"},\n",
        "    },\n",
        "]\n",
        "\n",
        "@tool(few_shot_examples=few_shot_examples)\n",
        "def get_weather(city: str) -> str:\n",
        "    \"\"\"Return weather information for the given city\"\"\"\n",
        "    url = (\n",
        "        f\"https://api.openweathermap.org/data/2.5/weather\"\n",
        "        f\"?q={city}&appid={openweather_key}&units=metric\"\n",
        "    )\n",
        "    \n",
        "    response = requests.get(url)\n",
        "\n",
        "    if response.status_code == 200:\n",
        "        data = response.json()\n",
        "        \n",
        "        weather_description = data['weather'][0]['description']\n",
        "        temp = data['main']['temp']\n",
        "        feels_like = data['main']['feels_like']\n",
        "        \n",
        "        return WeatherResult(\n",
        "            message=\"Погода была успешно получена.\",\n",
        "            temperature=temp,\n",
        "            feels_like=feels_like,\n",
        "            description=f'{weather_description}'\n",
        "        )\n",
        "    else:\n",
        "        return WeatherResult(\n",
        "            message=\"Не удалось получить данные о погоде. Проверьте название города или API-ключ.\",\n",
        "            temperature=0,\n",
        "            feels_like=0,\n",
        "            description=\"No description\"\n",
        "        )\n",
        "\n",
        "city_name = \"Москва\"\n",
        "city_name = \"Moscow\"\n",
        "print(get_weather(city_name))\n"
      ]
    },
    {
      "cell_type": "code",
      "execution_count": 8,
      "metadata": {},
      "outputs": [],
      "source": [
        "\n",
        "class OpenWeatherAPITool:\n",
        "    def __init__(self, llm, agent_function):\n",
        "        self.llm = llm\n",
        "        self.agent_function = agent_function\n",
        "        self.tools = [self.agent_function]\n",
        "        self.agent = create_gigachat_functions_agent(self.llm, self.tools)\n",
        "        self.agent_executor = AgentExecutor(\n",
        "            agent=self.agent,\n",
        "            tools=self.tools,\n",
        "            verbose=False,\n",
        "        )\n",
        "\n",
        "    def run(self, user_input: str):\n",
        "        result = self.agent_executor.invoke({\n",
        "            \"input\": user_input\n",
        "            })\n",
        "        return result['output']"
      ]
    },
    {
      "cell_type": "code",
      "execution_count": 9,
      "metadata": {},
      "outputs": [
        {
          "name": "stdout",
          "output_type": "stream",
          "text": [
            "{'base': 'stations',\n",
            " 'clouds': {'all': 75},\n",
            " 'cod': 200,\n",
            " 'coord': {'lat': 45.0428, 'lon': 41.9733},\n",
            " 'dt': 1729613861,\n",
            " 'id': 487846,\n",
            " 'main': {'feels_like': 4.72,\n",
            "          'grnd_level': 975,\n",
            "          'humidity': 93,\n",
            "          'pressure': 1030,\n",
            "          'sea_level': 1030,\n",
            "          'temp': 6.16,\n",
            "          'temp_max': 6.16,\n",
            "          'temp_min': 6.16},\n",
            " 'name': 'Stavropol',\n",
            " 'sys': {'country': 'RU',\n",
            "         'id': 8968,\n",
            "         'sunrise': 1729568226,\n",
            "         'sunset': 1729606541,\n",
            "         'type': 1},\n",
            " 'timezone': 10800,\n",
            " 'visibility': 10000,\n",
            " 'weather': [{'description': 'broken clouds',\n",
            "              'icon': '04n',\n",
            "              'id': 803,\n",
            "              'main': 'Clouds'}],\n",
            " 'wind': {'deg': 320, 'speed': 2}}\n"
          ]
        },
        {
          "data": {
            "text/plain": [
              "'Сейчас в Ставрополе облачно, температура около 6 градусов Цельсия, ощущается как около 5 градусов.'"
            ]
          },
          "execution_count": 9,
          "metadata": {},
          "output_type": "execute_result"
        }
      ],
      "source": [
        "giga_key = os.environ.get(\"SB_AUTH_DATA\")\n",
        "giga_pro = GigaChat(credentials=giga_key, model=\"GigaChat\", timeout=30, verify_ssl_certs=False)\n",
        "\n",
        "openwheatertool = OpenWeatherAPITool(giga_pro, get_weather)\n",
        "user_input = \"Какая погода сейчас в Ставрополе?\"\n",
        "openwheatertool.run(user_input)"
      ]
    },
    {
      "cell_type": "markdown",
      "metadata": {
        "id": "e-vwjNfq7pVI"
      },
      "source": [
        "## 2.2. Multi agents"
      ]
    },
    {
      "cell_type": "markdown",
      "metadata": {
        "id": "DmGf9psa7pVJ"
      },
      "source": [
        "Create a multi-agent system where each agent is responsible for a specific task in the travel planning process. For example, one agent is responsible for searching for flights, another for booking hotels, and a third for finding the weather at the destination.\n",
        "\n",
        "Requirements:\n",
        "\n",
        "- Use three or more GigaChat-based agents to interact with each other.\n",
        "- The first agent is responsible for searching for flights (using ```get_url_booking_tickets``` function).\n",
        "- The second agent is responsible for booking hotels (using ```get_url_booking_hotels``` function).\n",
        "- The third agent collects weather information for the destination (using a real API, such as OpenWeather). You can use the function from the previous task (for simplify, here you can give a current weather, not a forecast for the specific date)"
      ]
    },
    {
      "cell_type": "code",
      "execution_count": 13,
      "metadata": {
        "id": "srD-_1Ho7pVJ"
      },
      "outputs": [],
      "source": [
        "from langchain.tools import Tool\n",
        "from langchain.agents import create_gigachat_functions_agent, AgentExecutor\n",
        "from langchain_core.prompts import ChatPromptTemplate, MessagesPlaceholder\n",
        "import requests\n",
        "import json\n",
        "import datetime\n",
        "from dateutil import parser\n",
        "\n",
        "openweather_key = os.environ.get(\"OPENWEATHER_API_KEY\")\n"
      ]
    },
    {
      "cell_type": "code",
      "execution_count": 14,
      "metadata": {},
      "outputs": [],
      "source": [
        "def get_geoid(city: str) -> str:\n",
        "    url_base = 'https://suggest-maps.yandex.ru/suggest-geo'\n",
        "    params = {'search_type': 'tune', 'v': '9', 'results': 1, 'lang': 'ry_RU', 'callback': 'json'}\n",
        "    params['part'] = city\n",
        "    r = requests.get(url_base, params=params)\n",
        "    if r.ok:\n",
        "        r_text = r.text\n",
        "        r_json = r_text[5: len(r_text)-1]\n",
        "        res_json = json.loads(r_json)\n",
        "        res = res_json['results'][0]['geoid']\n",
        "    else:\n",
        "        res = ''\n",
        "    return str(res)"
      ]
    },
    {
      "cell_type": "code",
      "execution_count": 15,
      "metadata": {},
      "outputs": [],
      "source": [
        "class HotelBookingResult(BaseModel):\n",
        "    url: str = Field(description=\"URL for booking hotel\")\n",
        "    city: str = Field(description=\"City for booking hotel\")\n",
        "    date_in: str = Field(description=\"Start date\")\n",
        "    date_out: str = Field(description=\"End date\")\n",
        "    message: str = Field(description=\"message about hotel booking URL generation result\")\n",
        "\n",
        "few_shot_examples_hotel = [\n",
        "    {\n",
        "        \"request\": \"What is a URL for booking a hotel in Moscow from 10.12.23 to 15.12.23\",\n",
        "        \"params\": {\n",
        "            \"city\": \"Moscow\",\n",
        "            \"date_in_str\": \"10.12.23\",\n",
        "            \"date_out_str\": \"15.12.23\"\n",
        "            },\n",
        "    },\n",
        "    {\n",
        "        \"request\": \"Give me a link for booking hotel in Saint Petersburg from 15.06.24 to 15.07.24\",\n",
        "        \"params\": {\n",
        "            \"city\": \"Saint Petersburg\",\n",
        "            \"date_in_str\": \"15.06.24\",\n",
        "            \"date_out_str\": \"15.07.24\"\n",
        "            },\n",
        "    },\n",
        "    {\n",
        "        \"request\": \"Can you give me a web page for hotel reserving in Samara from 01.01.22 to 21.01.22\",\n",
        "        \"params\": {\n",
        "            \"city\": \"Samara\",\n",
        "            \"date_in_str\": \"01.01.22\",\n",
        "            \"date_out_str\": \"21.01.22\"\n",
        "            },\n",
        "    },\n",
        "]\n",
        "\n",
        "@tool(few_shot_examples=few_shot_examples_hotel)\n",
        "def get_url_booking_hotels(date_in_str: str, date_out_str: str, city: str) -> str:\n",
        "    \"Return hotel booking url for the given city, start date and end date\"\n",
        "    date_in = parser.parse(date_in_str)\n",
        "    date_out = parser.parse(date_out_str)\n",
        "    if date_in is None:\n",
        "        date_in = datetime.datetime.now()\n",
        "    if date_out is None:\n",
        "        date_out = datetime.datetime.now() + datetime.timedelta(days=1)\n",
        "    geoid = get_geoid(city)\n",
        "    url = 'https://travel.yandex.ru/hotels/search/?'\n",
        "    params = {'adults': '2', 'checkinDate': date_in.strftime('%Y-%m-%d'), 'checkoutDate': date_out.strftime('%Y-%m-%d'), 'childrenAges': '0', 'geoId': geoid}\n",
        "    for item in params:\n",
        "        url += '&' + item + '=' + params[item]\n",
        "    return HotelBookingResult(\n",
        "        message='URL succesfully generated',\n",
        "        url=url,\n",
        "        city=city,\n",
        "        date_in=date_in_str,\n",
        "        date_out=date_out_str,\n",
        "    )\n",
        "    # return f'Here is your URL for booking: {url} in {city} on {date_in_str} / {date_out_str}'\n"
      ]
    },
    {
      "cell_type": "code",
      "execution_count": 16,
      "metadata": {},
      "outputs": [],
      "source": [
        "class TicketsBookingResult(BaseModel):\n",
        "    url: str = Field(description=\"URL for booking tickets\")\n",
        "    city_from: str = Field(description=\"Departing city\")\n",
        "    date_in: str = Field(description=\"Start date\")\n",
        "    date_out: str = Field(description=\"End date\")\n",
        "    message: str = Field(description=\"message about hotel booking URL generation result\")\n",
        "\n",
        "\n",
        "few_shot_examples_tickets = [\n",
        "    {\n",
        "        \"request\": \"Can you provide a link for booking tickets from Moscow to Saint Petersburg on 20.11.23 with return on 25.11.23?\",\n",
        "        \"params\": {\n",
        "            \"city_from\": \"Moscow\",\n",
        "            \"city_to\": \"Saint Petersburg\",\n",
        "            \"date_in_str\": \"20.11.23\",\n",
        "            \"date_out_str\": \"25.11.23\"\n",
        "        },\n",
        "    },\n",
        "    {\n",
        "        \"request\": \"Give me a URL to buy tickets from Kazan to Sochi departing on 01.03.24 and returning on 10.03.24\",\n",
        "        \"params\": {\n",
        "            \"city_from\": \"Kazan\",\n",
        "            \"city_to\": \"Sochi\",\n",
        "            \"date_in_str\": \"01.03.24\",\n",
        "            \"date_out_str\": \"10.03.24\"\n",
        "        },\n",
        "    },\n",
        "    {\n",
        "        \"request\": \"I need a link to book a flight from Novosibirsk to Vladivostok on 05.05.24 and return on 15.05.24\",\n",
        "        \"params\": {\n",
        "            \"city_from\": \"Novosibirsk\",\n",
        "            \"city_to\": \"Vladivostok\",\n",
        "            \"date_in_str\": \"05.05.24\",\n",
        "            \"date_out_str\": \"15.05.24\"\n",
        "        },\n",
        "    },\n",
        "    {\n",
        "        \"request\": \"Can you give me a ticket booking link from Yekaterinburg to Omsk for 01.12.23 with return on 05.12.23?\",\n",
        "        \"params\": {\n",
        "            \"city_from\": \"Yekaterinburg\",\n",
        "            \"city_to\": \"Omsk\",\n",
        "            \"date_in_str\": \"01.12.23\",\n",
        "            \"date_out_str\": \"05.12.23\"\n",
        "        },\n",
        "    },\n",
        "]\n",
        "\n",
        "\n",
        "@tool(few_shot_examples=few_shot_examples_tickets)\n",
        "def get_url_booking_tikets(city_from: str, city_to: str, date_in_str: str, date_out_str: str) -> str:\n",
        "    \"Return tikets booking url for the given start city, end city, start date and end date\"\n",
        "    date_in = parser.parse(date_in_str)\n",
        "    date_out = parser.parse(date_out_str)\n",
        "    if date_in is None:\n",
        "        date_in = datetime.datetime.now()\n",
        "    if date_out is None:\n",
        "        date_out = datetime.datetime.now() + datetime.timedelta(days=1)\n",
        "    fromid = get_geoid(city_from)\n",
        "    toid = get_geoid(city_to)\n",
        "    url = 'https://travel.yandex.ru/avia/search/result/?'\n",
        "    params = {'adults_seats': '2', 'fromId': 'c' + fromid, 'klass': 'economy', 'oneway': '2', 'return_date': date_out.strftime('%Y-%m-%d'), 'toId': 'c' + toid, 'when': date_in.strftime('%Y-%m-%d')}\n",
        "    for item in params:\n",
        "        url += '&' + item + '=' + params[item]\n",
        "    return TicketsBookingResult(\n",
        "        message='URL succesfully generated',\n",
        "        url=url,\n",
        "        city_from=city_from,\n",
        "        city_to=city_to,\n",
        "        date_in=date_in_str,\n",
        "        date_out=date_out_str,\n",
        "    )\n",
        "    # return f'Here is your url for tickets ordering: {url} from {city_from} to {city_to} on {date_in_str} / {date_out_str}'\n"
      ]
    },
    {
      "cell_type": "code",
      "execution_count": 17,
      "metadata": {},
      "outputs": [],
      "source": [
        "class MultiAgent:\n",
        "    def __init__(self, llm, agent_function_wheater, agent_function_hotels, agent_function_tickets):\n",
        "        self.llm = llm\n",
        "        self.agent_function_wheater = agent_function_wheater\n",
        "        self.agent_function_hotels = agent_function_hotels\n",
        "        self.agent_function_tickets = agent_function_tickets\n",
        "        self.weather_agent = self._create_agent(\n",
        "            tools=[self.agent_function_wheater],\n",
        "        )\n",
        "        self.hotel_agent = self._create_agent(\n",
        "            tools=[self.agent_function_hotels],\n",
        "        )\n",
        "        self.tickets_agent = self._create_agent(\n",
        "            tools=[self.agent_function_tickets],\n",
        "        )\n",
        "\n",
        "    def _create_agent(self, tools):\n",
        "        agent = create_gigachat_functions_agent(self.llm, tools)\n",
        "        return AgentExecutor(agent=agent, tools=tools, verbose=True,)\n",
        "\n",
        "    def run(self, user_input: str):\n",
        "        \n",
        "        weather = self.weather_agent.invoke({\"input\": user_input})\n",
        "        tickets = self.tickets_agent.invoke({\"input\": user_input})\n",
        "        hotel = self.hotel_agent.invoke({\"input\": user_input})\n",
        "        answer = f\"{weather['output']}\\n{tickets['output']}\\n{hotel['output']}\\n\"\n",
        "        return answer\n"
      ]
    },
    {
      "cell_type": "code",
      "execution_count": 18,
      "metadata": {
        "id": "B9Itowr_7pVJ",
        "outputId": "a0a31601-77a1-4bbd-cbed-2b500f2a5193"
      },
      "outputs": [
        {
          "name": "stdout",
          "output_type": "stream",
          "text": [
            "\n",
            "\n",
            "\u001b[1m> Entering new AgentExecutor chain...\u001b[0m\n",
            "\u001b[32;1m\u001b[1;3m\n",
            "Invoking: `get_weather` with `{'city': 'Saint Petersburg'}`\n",
            "\n",
            "\n",
            "\u001b[0m{'base': 'stations',\n",
            " 'clouds': {'all': 0},\n",
            " 'cod': 200,\n",
            " 'coord': {'lat': 59.8944, 'lon': 30.2642},\n",
            " 'dt': 1729615681,\n",
            " 'id': 498817,\n",
            " 'main': {'feels_like': 10.4,\n",
            "          'grnd_level': 1012,\n",
            "          'humidity': 80,\n",
            "          'pressure': 1015,\n",
            "          'sea_level': 1015,\n",
            "          'temp': 11.14,\n",
            "          'temp_max': 11.14,\n",
            "          'temp_min': 11.08},\n",
            " 'name': 'Saint Petersburg',\n",
            " 'sys': {'country': 'RU',\n",
            "         'id': 197864,\n",
            "         'sunrise': 1729572944,\n",
            "         'sunset': 1729607442,\n",
            "         'type': 2},\n",
            " 'timezone': 10800,\n",
            " 'visibility': 10000,\n",
            " 'weather': [{'description': 'clear sky',\n",
            "              'icon': '01n',\n",
            "              'id': 800,\n",
            "              'main': 'Clear'}],\n",
            " 'wind': {'deg': 260, 'speed': 5}}\n",
            "\u001b[36;1m\u001b[1;3mmessage='Погода была успешно получена.' temperature=11.14 feels_like=10.4 description='clear sky'\u001b[0m\u001b[32;1m\u001b[1;3mИзвините за путаницу, я обработал только часть вашего запроса и не смог дать вам информацию о бронировании билетов и отелей. Если вы хотите узнать больше о погоде в Санкт-Петербурге, могу сообщить, что сейчас там ясно и температура около 11 градусов Цельсия. Также для поиска и бронирования отелей и билетов рекомендую использовать специализированные сайты по бронированию путешествий, такие как Booking.com, Aviasales.ru или Ozon.travel.\u001b[0m\n",
            "\n",
            "\u001b[1m> Finished chain.\u001b[0m\n",
            "\n",
            "\n",
            "\u001b[1m> Entering new AgentExecutor chain...\u001b[0m\n",
            "\u001b[32;1m\u001b[1;3mДля поиска и бронирования отеля и билетов рекомендую воспользоваться следующими сайтами:\n",
            "- Booking.com для бронирования отелей.\n",
            "- Aviasales для покупки авиабилетов.\n",
            "\n",
            "Что касается погоды в Санкт-Петербурге с 10 по 28 ноября 2024 года, я могу предложить прогноз погоды от одного из метеорологических сервисов. Однако стоит учитывать, что точный прогноз будет доступен ближе к дате поездки.\n",
            "\n",
            "Прогноз погоды на данный момент показывает следующие данные:\n",
            "- Средняя температура воздуха около +2°C до +6°C.\n",
            "- Вероятность дождя и снега присутствует, но не является высокой.\n",
            "- Могут быть ветреные дни.\n",
            "\n",
            "Эти данные могут меняться, поэтому перед поездкой рекомендуется проверить актуальный прогноз погоды.\u001b[0m\n",
            "\n",
            "\u001b[1m> Finished chain.\u001b[0m\n",
            "\n",
            "\n",
            "\u001b[1m> Entering new AgentExecutor chain...\u001b[0m\n",
            "\u001b[32;1m\u001b[1;3m\n",
            "Invoking: `get_url_booking_hotels` with `{'city': 'Saint Petersburg', 'date_in_str': '10.11.24', 'date_out_str': '28.11.24'}`\n",
            "\n",
            "\n",
            "\u001b[0m\u001b[36;1m\u001b[1;3murl='https://travel.yandex.ru/hotels/search/?&adults=2&checkinDate=2024-10-11&checkoutDate=2024-11-28&childrenAges=0&geoId=2' city='Saint Petersburg' date_in='10.11.24' date_out='28.11.24' message='URL succesfully generated'\u001b[0m\u001b[32;1m\u001b[1;3mHere's the URL for booking hotels in Saint Petersburg during your dates: **https://travel.yandex.ru/hotels/search/?&adults=2&checkinDate=2024-10-11&checkoutDate=2024-11-28&childrenAges=0&geoId=2**.\u001b[0m\n",
            "\n",
            "\u001b[1m> Finished chain.\u001b[0m\n",
            "Извините за путаницу, я обработал только часть вашего запроса и не смог дать вам информацию о бронировании билетов и отелей. Если вы хотите узнать больше о погоде в Санкт-Петербурге, могу сообщить, что сейчас там ясно и температура около 11 градусов Цельсия. Также для поиска и бронирования отелей и билетов рекомендую использовать специализированные сайты по бронированию путешествий, такие как Booking.com, Aviasales.ru или Ozon.travel.\n",
            "Для поиска и бронирования отеля и билетов рекомендую воспользоваться следующими сайтами:\n",
            "- Booking.com для бронирования отелей.\n",
            "- Aviasales для покупки авиабилетов.\n",
            "\n",
            "Что касается погоды в Санкт-Петербурге с 10 по 28 ноября 2024 года, я могу предложить прогноз погоды от одного из метеорологических сервисов. Однако стоит учитывать, что точный прогноз будет доступен ближе к дате поездки.\n",
            "\n",
            "Прогноз погоды на данный момент показывает следующие данные:\n",
            "- Средняя температура воздуха около +2°C до +6°C.\n",
            "- Вероятность дождя и снега присутствует, но не является высокой.\n",
            "- Могут быть ветреные дни.\n",
            "\n",
            "Эти данные могут меняться, поэтому перед поездкой рекомендуется проверить актуальный прогноз погоды.\n",
            "Here's the URL for booking hotels in Saint Petersburg during your dates: **https://travel.yandex.ru/hotels/search/?&adults=2&checkinDate=2024-10-11&checkoutDate=2024-11-28&childrenAges=0&geoId=2**.\n",
            "\n"
          ]
        }
      ],
      "source": [
        "giga_key = os.environ.get(\"SB_AUTH_DATA\")\n",
        "giga_pro = GigaChat(credentials=giga_key, model=\"GigaChat-Pro\", timeout=30, verify_ssl_certs=False)\n",
        "\n",
        "traveler = MultiAgent(giga_pro, get_weather, get_url_booking_hotels, get_url_booking_tikets)\n",
        "user_input = \"I want to go to the trip from Moscow to Saint Petersburg from 10.11.24 to 28.11.24. Can you give me url for booking hotel and tickets. And tell me about the weather in Saint Petersburg please.\"\n",
        "answer = traveler.run(user_input)\n",
        "print(answer)"
      ]
    }
  ],
  "metadata": {
    "colab": {
      "provenance": []
    },
    "kernelspec": {
      "display_name": "venv",
      "language": "python",
      "name": "python3"
    },
    "language_info": {
      "codemirror_mode": {
        "name": "ipython",
        "version": 3
      },
      "file_extension": ".py",
      "mimetype": "text/x-python",
      "name": "python",
      "nbconvert_exporter": "python",
      "pygments_lexer": "ipython3",
      "version": "3.9.20"
    }
  },
  "nbformat": 4,
  "nbformat_minor": 0
}
